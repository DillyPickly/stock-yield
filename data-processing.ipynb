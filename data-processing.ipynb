{
 "cells": [
  {
   "cell_type": "code",
   "execution_count": 109,
   "id": "general-acoustic",
   "metadata": {},
   "outputs": [],
   "source": [
    "import xml.etree.ElementTree as ET\n",
    "from bs4 import BeautifulSoup\n",
    "import pandas as pd"
   ]
  },
  {
   "cell_type": "markdown",
   "id": "metric-inspection",
   "metadata": {},
   "source": [
    "## Data Extraction"
   ]
  },
  {
   "cell_type": "markdown",
   "id": "equivalent-geometry",
   "metadata": {},
   "source": [
    "data sources\n",
    "- [Yield Rate](https://www.treasury.gov/resource-center/data-chart-center/interest-rates/Pages/TextView.aspx?data=yieldAll)\n",
    "- [Dow HIstorical Rates](https://finance.yahoo.com/quote/%5EDJI/history?period1=694310400&period2=1616630400&interval=1d&filter=history&frequency=1d&includeAdjustedClose=true)"
   ]
  },
  {
   "cell_type": "code",
   "execution_count": 110,
   "id": "introductory-garbage",
   "metadata": {},
   "outputs": [
    {
     "name": "stdout",
     "output_type": "stream",
     "text": [
      "\u001b[0m\u001b[01;32mDailyTreasuryYieldCurveRateData\u001b[0m*\r\n",
      "\u001b[34;42mDailyTreasuryYieldCurveRateData.xsd\u001b[0m/\r\n",
      "\u001b[01;32mDowJonesIndustrialAverage-YahooFinance.html\u001b[0m*\r\n"
     ]
    }
   ],
   "source": [
    "ls raw_data/"
   ]
  },
  {
   "cell_type": "markdown",
   "id": "swiss-wisdom",
   "metadata": {},
   "source": [
    "### Treasury Yield Rate"
   ]
  },
  {
   "cell_type": "code",
   "execution_count": 111,
   "id": "hungry-death",
   "metadata": {},
   "outputs": [],
   "source": [
    "xml_file = 'raw_data/DailyTreasuryYieldCurveRateData'"
   ]
  },
  {
   "cell_type": "code",
   "execution_count": 112,
   "id": "adjacent-ministry",
   "metadata": {},
   "outputs": [],
   "source": [
    "ns = {\n",
    "    'd':\"http://schemas.microsoft.com/ado/2007/08/dataservices\",\n",
    "    'm':\"http://schemas.microsoft.com/ado/2007/08/dataservices/metadata\", \n",
    "    'base':\"http://www.w3.org/2005/Atom\"\n",
    "}"
   ]
  },
  {
   "cell_type": "code",
   "execution_count": 113,
   "id": "english-chapter",
   "metadata": {},
   "outputs": [],
   "source": [
    "tree = ET.parse(xml_file)\n",
    "root = tree.getroot()"
   ]
  },
  {
   "cell_type": "code",
   "execution_count": 128,
   "id": "molecular-creek",
   "metadata": {
    "scrolled": true
   },
   "outputs": [],
   "source": [
    "data = {\n",
    "    'date':[],\n",
    "    '1_month':[],\n",
    "    '2_month':[],\n",
    "    '3_month':[],\n",
    "    '6_month':[],\n",
    "    '1_year':[],\n",
    "    '2_year':[],\n",
    "    '3_year':[],\n",
    "    '5_year':[],\n",
    "    '7_year':[],\n",
    "    '10_year':[],\n",
    "    '20_year':[],\n",
    "    '30_year':[],\n",
    "    '30_year_display':[],\n",
    "}"
   ]
  },
  {
   "cell_type": "code",
   "execution_count": 141,
   "id": "underlying-cabinet",
   "metadata": {},
   "outputs": [],
   "source": [
    "for entry in root.iterfind('./base:entry/base:content/',ns):\n",
    "    \n",
    "    data['date'   ].append(entry.find('./d:NEW_DATE',ns).text)\n",
    "    data['1_month'].append(entry.find('./d:BC_1MONTH',ns).text)\n",
    "    data['2_month'].append(entry.find('./d:BC_2MONTH',ns).text)\n",
    "    data['3_month'].append(entry.find('./d:BC_3MONTH',ns).text)\n",
    "    data['6_month'].append(entry.find('./d:BC_6MONTH',ns).text)\n",
    "    data['1_year' ].append(entry.find('./d:BC_1YEAR',ns).text)\n",
    "    data['2_year' ].append(entry.find('./d:BC_2YEAR',ns).text)\n",
    "    data['3_year' ].append(entry.find('./d:BC_3YEAR',ns).text)\n",
    "    data['5_year' ].append(entry.find('./d:BC_5YEAR',ns).text)\n",
    "    data['7_year' ].append(entry.find('./d:BC_7YEAR',ns).text)\n",
    "    data['10_year'].append(entry.find('./d:BC_10YEAR',ns).text)\n",
    "    data['20_year'].append(entry.find('./d:BC_20YEAR',ns).text)\n",
    "    data['30_year'].append(entry.find('./d:BC_30YEAR',ns).text)\n",
    "    data['30_year_display'].append(entry.find('./d:BC_30YEARDISPLAY',ns).text)\n",
    "\n",
    "#     print()\n"
   ]
  },
  {
   "cell_type": "code",
   "execution_count": 142,
   "id": "occupational-string",
   "metadata": {
    "scrolled": true
   },
   "outputs": [
    {
     "data": {
      "text/plain": [
       "15630"
      ]
     },
     "execution_count": 142,
     "metadata": {},
     "output_type": "execute_result"
    }
   ],
   "source": [
    "len(data['date'])"
   ]
  },
  {
   "cell_type": "code",
   "execution_count": 143,
   "id": "upset-suicide",
   "metadata": {},
   "outputs": [
    {
     "data": {
      "text/html": [
       "<div>\n",
       "<style scoped>\n",
       "    .dataframe tbody tr th:only-of-type {\n",
       "        vertical-align: middle;\n",
       "    }\n",
       "\n",
       "    .dataframe tbody tr th {\n",
       "        vertical-align: top;\n",
       "    }\n",
       "\n",
       "    .dataframe thead th {\n",
       "        text-align: right;\n",
       "    }\n",
       "</style>\n",
       "<table border=\"1\" class=\"dataframe\">\n",
       "  <thead>\n",
       "    <tr style=\"text-align: right;\">\n",
       "      <th></th>\n",
       "      <th>date</th>\n",
       "      <th>1_month</th>\n",
       "      <th>2_month</th>\n",
       "      <th>3_month</th>\n",
       "      <th>6_month</th>\n",
       "      <th>1_year</th>\n",
       "      <th>2_year</th>\n",
       "      <th>3_year</th>\n",
       "      <th>5_year</th>\n",
       "      <th>7_year</th>\n",
       "      <th>10_year</th>\n",
       "      <th>20_year</th>\n",
       "      <th>30_year</th>\n",
       "      <th>30_year_display</th>\n",
       "    </tr>\n",
       "  </thead>\n",
       "  <tbody>\n",
       "    <tr>\n",
       "      <th>0</th>\n",
       "      <td>1997-01-02T00:00:00</td>\n",
       "      <td>None</td>\n",
       "      <td>None</td>\n",
       "      <td>5.190000057220459</td>\n",
       "      <td>5.3499999046325684</td>\n",
       "      <td>5.630000114440918</td>\n",
       "      <td>5.96999979019165</td>\n",
       "      <td>6.130000114440918</td>\n",
       "      <td>6.3000001907348633</td>\n",
       "      <td>6.4499998092651367</td>\n",
       "      <td>6.5399999618530273</td>\n",
       "      <td>6.8499999046325684</td>\n",
       "      <td>6.75</td>\n",
       "      <td>0</td>\n",
       "    </tr>\n",
       "    <tr>\n",
       "      <th>1</th>\n",
       "      <td>1996-12-31T00:00:00</td>\n",
       "      <td>None</td>\n",
       "      <td>None</td>\n",
       "      <td>5.2100000381469727</td>\n",
       "      <td>5.3299999237060547</td>\n",
       "      <td>5.5100002288818359</td>\n",
       "      <td>5.880000114440918</td>\n",
       "      <td>6.0399999618530273</td>\n",
       "      <td>6.2100000381469727</td>\n",
       "      <td>6.3400001525878906</td>\n",
       "      <td>6.429999828338623</td>\n",
       "      <td>6.7300000190734863</td>\n",
       "      <td>6.6500000953674316</td>\n",
       "      <td>0</td>\n",
       "    </tr>\n",
       "    <tr>\n",
       "      <th>2</th>\n",
       "      <td>1997-01-03T00:00:00</td>\n",
       "      <td>None</td>\n",
       "      <td>None</td>\n",
       "      <td>5.1700000762939453</td>\n",
       "      <td>5.3400001525878906</td>\n",
       "      <td>5.5999999046325684</td>\n",
       "      <td>5.9499998092651367</td>\n",
       "      <td>6.1100001335144043</td>\n",
       "      <td>6.28000020980835</td>\n",
       "      <td>6.4200000762939453</td>\n",
       "      <td>6.5199999809265137</td>\n",
       "      <td>6.8400001525878906</td>\n",
       "      <td>6.7399997711181641</td>\n",
       "      <td>0</td>\n",
       "    </tr>\n",
       "    <tr>\n",
       "      <th>3</th>\n",
       "      <td>1997-01-07T00:00:00</td>\n",
       "      <td>None</td>\n",
       "      <td>None</td>\n",
       "      <td>5.1599998474121094</td>\n",
       "      <td>5.3000001907348633</td>\n",
       "      <td>5.6100001335144043</td>\n",
       "      <td>5.9800000190734863</td>\n",
       "      <td>6.1399998664855957</td>\n",
       "      <td>6.320000171661377</td>\n",
       "      <td>6.46999979019165</td>\n",
       "      <td>6.570000171661377</td>\n",
       "      <td>6.8899998664855957</td>\n",
       "      <td>6.8000001907348633</td>\n",
       "      <td>0</td>\n",
       "    </tr>\n",
       "    <tr>\n",
       "      <th>4</th>\n",
       "      <td>1997-01-06T00:00:00</td>\n",
       "      <td>None</td>\n",
       "      <td>None</td>\n",
       "      <td>5.1700000762939453</td>\n",
       "      <td>5.309999942779541</td>\n",
       "      <td>5.6100001335144043</td>\n",
       "      <td>5.96999979019165</td>\n",
       "      <td>6.119999885559082</td>\n",
       "      <td>6.3000001907348633</td>\n",
       "      <td>6.440000057220459</td>\n",
       "      <td>6.5399999618530273</td>\n",
       "      <td>6.8600001335144043</td>\n",
       "      <td>6.7699999809265137</td>\n",
       "      <td>0</td>\n",
       "    </tr>\n",
       "  </tbody>\n",
       "</table>\n",
       "</div>"
      ],
      "text/plain": [
       "                  date 1_month 2_month             3_month  \\\n",
       "0  1997-01-02T00:00:00    None    None   5.190000057220459   \n",
       "1  1996-12-31T00:00:00    None    None  5.2100000381469727   \n",
       "2  1997-01-03T00:00:00    None    None  5.1700000762939453   \n",
       "3  1997-01-07T00:00:00    None    None  5.1599998474121094   \n",
       "4  1997-01-06T00:00:00    None    None  5.1700000762939453   \n",
       "\n",
       "              6_month              1_year              2_year  \\\n",
       "0  5.3499999046325684   5.630000114440918    5.96999979019165   \n",
       "1  5.3299999237060547  5.5100002288818359   5.880000114440918   \n",
       "2  5.3400001525878906  5.5999999046325684  5.9499998092651367   \n",
       "3  5.3000001907348633  5.6100001335144043  5.9800000190734863   \n",
       "4   5.309999942779541  5.6100001335144043    5.96999979019165   \n",
       "\n",
       "               3_year              5_year              7_year  \\\n",
       "0   6.130000114440918  6.3000001907348633  6.4499998092651367   \n",
       "1  6.0399999618530273  6.2100000381469727  6.3400001525878906   \n",
       "2  6.1100001335144043    6.28000020980835  6.4200000762939453   \n",
       "3  6.1399998664855957   6.320000171661377    6.46999979019165   \n",
       "4   6.119999885559082  6.3000001907348633   6.440000057220459   \n",
       "\n",
       "              10_year             20_year             30_year 30_year_display  \n",
       "0  6.5399999618530273  6.8499999046325684                6.75               0  \n",
       "1   6.429999828338623  6.7300000190734863  6.6500000953674316               0  \n",
       "2  6.5199999809265137  6.8400001525878906  6.7399997711181641               0  \n",
       "3   6.570000171661377  6.8899998664855957  6.8000001907348633               0  \n",
       "4  6.5399999618530273  6.8600001335144043  6.7699999809265137               0  "
      ]
     },
     "execution_count": 143,
     "metadata": {},
     "output_type": "execute_result"
    }
   ],
   "source": [
    "df = pd.DataFrame(data)\n",
    "df.head()"
   ]
  },
  {
   "cell_type": "code",
   "execution_count": 144,
   "id": "united-modification",
   "metadata": {},
   "outputs": [],
   "source": [
    "format = '%Y-%m-%d'\n",
    "df['date'] = pd.to_datetime(df['date'], format=format)\n",
    "df = df.set_index(pd.DatetimeIndex(df['date']))\n",
    "df = df.drop(['date'], axis=1)\n",
    "\n",
    "df.sort_values(by='date', inplace=True, ascending=False)"
   ]
  },
  {
   "cell_type": "code",
   "execution_count": 145,
   "id": "conscious-worcester",
   "metadata": {
    "scrolled": true
   },
   "outputs": [
    {
     "data": {
      "text/html": [
       "<div>\n",
       "<style scoped>\n",
       "    .dataframe tbody tr th:only-of-type {\n",
       "        vertical-align: middle;\n",
       "    }\n",
       "\n",
       "    .dataframe tbody tr th {\n",
       "        vertical-align: top;\n",
       "    }\n",
       "\n",
       "    .dataframe thead th {\n",
       "        text-align: right;\n",
       "    }\n",
       "</style>\n",
       "<table border=\"1\" class=\"dataframe\">\n",
       "  <thead>\n",
       "    <tr style=\"text-align: right;\">\n",
       "      <th></th>\n",
       "      <th>1_month</th>\n",
       "      <th>2_month</th>\n",
       "      <th>3_month</th>\n",
       "      <th>6_month</th>\n",
       "      <th>1_year</th>\n",
       "      <th>2_year</th>\n",
       "      <th>3_year</th>\n",
       "      <th>5_year</th>\n",
       "      <th>7_year</th>\n",
       "      <th>10_year</th>\n",
       "      <th>20_year</th>\n",
       "      <th>30_year</th>\n",
       "      <th>30_year_display</th>\n",
       "    </tr>\n",
       "    <tr>\n",
       "      <th>date</th>\n",
       "      <th></th>\n",
       "      <th></th>\n",
       "      <th></th>\n",
       "      <th></th>\n",
       "      <th></th>\n",
       "      <th></th>\n",
       "      <th></th>\n",
       "      <th></th>\n",
       "      <th></th>\n",
       "      <th></th>\n",
       "      <th></th>\n",
       "      <th></th>\n",
       "      <th></th>\n",
       "    </tr>\n",
       "  </thead>\n",
       "  <tbody>\n",
       "    <tr>\n",
       "      <th>2021-03-25</th>\n",
       "      <td>0.02</td>\n",
       "      <td>0.03</td>\n",
       "      <td>0.02</td>\n",
       "      <td>0.04</td>\n",
       "      <td>0.07</td>\n",
       "      <td>0.14</td>\n",
       "      <td>0.3</td>\n",
       "      <td>0.82</td>\n",
       "      <td>1.29</td>\n",
       "      <td>1.63</td>\n",
       "      <td>2.24</td>\n",
       "      <td>2.34</td>\n",
       "      <td>2.34</td>\n",
       "    </tr>\n",
       "    <tr>\n",
       "      <th>2021-03-25</th>\n",
       "      <td>0.02</td>\n",
       "      <td>0.03</td>\n",
       "      <td>0.02</td>\n",
       "      <td>0.04</td>\n",
       "      <td>0.07</td>\n",
       "      <td>0.14</td>\n",
       "      <td>0.3</td>\n",
       "      <td>0.82</td>\n",
       "      <td>1.29</td>\n",
       "      <td>1.63</td>\n",
       "      <td>2.24</td>\n",
       "      <td>2.34</td>\n",
       "      <td>2.34</td>\n",
       "    </tr>\n",
       "    <tr>\n",
       "      <th>2021-03-24</th>\n",
       "      <td>0.02</td>\n",
       "      <td>0.02</td>\n",
       "      <td>0.02</td>\n",
       "      <td>0.04</td>\n",
       "      <td>0.07</td>\n",
       "      <td>0.14</td>\n",
       "      <td>0.31</td>\n",
       "      <td>0.83</td>\n",
       "      <td>1.27</td>\n",
       "      <td>1.62</td>\n",
       "      <td>2.21</td>\n",
       "      <td>2.31</td>\n",
       "      <td>2.31</td>\n",
       "    </tr>\n",
       "    <tr>\n",
       "      <th>2021-03-24</th>\n",
       "      <td>0.02</td>\n",
       "      <td>0.02</td>\n",
       "      <td>0.02</td>\n",
       "      <td>0.04</td>\n",
       "      <td>0.07</td>\n",
       "      <td>0.14</td>\n",
       "      <td>0.31</td>\n",
       "      <td>0.83</td>\n",
       "      <td>1.27</td>\n",
       "      <td>1.62</td>\n",
       "      <td>2.21</td>\n",
       "      <td>2.31</td>\n",
       "      <td>2.31</td>\n",
       "    </tr>\n",
       "    <tr>\n",
       "      <th>2021-03-23</th>\n",
       "      <td>0.02</td>\n",
       "      <td>0.02</td>\n",
       "      <td>0.01</td>\n",
       "      <td>0.04</td>\n",
       "      <td>0.08</td>\n",
       "      <td>0.15</td>\n",
       "      <td>0.31</td>\n",
       "      <td>0.83</td>\n",
       "      <td>1.29</td>\n",
       "      <td>1.63</td>\n",
       "      <td>2.24</td>\n",
       "      <td>2.34</td>\n",
       "      <td>2.34</td>\n",
       "    </tr>\n",
       "  </tbody>\n",
       "</table>\n",
       "</div>"
      ],
      "text/plain": [
       "           1_month 2_month 3_month 6_month 1_year 2_year 3_year 5_year 7_year  \\\n",
       "date                                                                            \n",
       "2021-03-25    0.02    0.03    0.02    0.04   0.07   0.14    0.3   0.82   1.29   \n",
       "2021-03-25    0.02    0.03    0.02    0.04   0.07   0.14    0.3   0.82   1.29   \n",
       "2021-03-24    0.02    0.02    0.02    0.04   0.07   0.14   0.31   0.83   1.27   \n",
       "2021-03-24    0.02    0.02    0.02    0.04   0.07   0.14   0.31   0.83   1.27   \n",
       "2021-03-23    0.02    0.02    0.01    0.04   0.08   0.15   0.31   0.83   1.29   \n",
       "\n",
       "           10_year 20_year 30_year 30_year_display  \n",
       "date                                                \n",
       "2021-03-25    1.63    2.24    2.34            2.34  \n",
       "2021-03-25    1.63    2.24    2.34            2.34  \n",
       "2021-03-24    1.62    2.21    2.31            2.31  \n",
       "2021-03-24    1.62    2.21    2.31            2.31  \n",
       "2021-03-23    1.63    2.24    2.34            2.34  "
      ]
     },
     "execution_count": 145,
     "metadata": {},
     "output_type": "execute_result"
    }
   ],
   "source": [
    "df.head()"
   ]
  },
  {
   "cell_type": "code",
   "execution_count": 146,
   "id": "reliable-spiritual",
   "metadata": {},
   "outputs": [],
   "source": [
    "df.to_csv('processed_data/yield_historical.csv')"
   ]
  },
  {
   "cell_type": "markdown",
   "id": "patient-guinea",
   "metadata": {},
   "source": [
    "### Dow Jones Industrial Average Data"
   ]
  },
  {
   "cell_type": "code",
   "execution_count": 147,
   "id": "dirty-terror",
   "metadata": {
    "scrolled": true
   },
   "outputs": [
    {
     "name": "stdout",
     "output_type": "stream",
     "text": [
      "\u001b[0m\u001b[01;32mDailyTreasuryYieldCurveRateData\u001b[0m*\r\n",
      "\u001b[34;42mDailyTreasuryYieldCurveRateData.xsd\u001b[0m/\r\n",
      "\u001b[01;32mDowJonesIndustrialAverage-YahooFinance.html\u001b[0m*\r\n"
     ]
    }
   ],
   "source": [
    "ls raw_data/"
   ]
  },
  {
   "cell_type": "code",
   "execution_count": 148,
   "id": "sunset-inside",
   "metadata": {},
   "outputs": [],
   "source": [
    "from lxml import etree\n",
    "from urllib.request import urlopen"
   ]
  },
  {
   "cell_type": "code",
   "execution_count": 149,
   "id": "blind-norwegian",
   "metadata": {
    "scrolled": false
   },
   "outputs": [
    {
     "name": "stdout",
     "output_type": "stream",
     "text": [
      "Mar 24, 2021\n",
      "32,470.88\n",
      "32,787.99\n",
      "32,418.15\n",
      "32,420.06\n",
      "32,420.06\n",
      "3,993,900\n"
     ]
    }
   ],
   "source": [
    "url = 'file:///home/dylan/Projects/stock-yield/raw_data/DowJonesIndustrialAverage-YahooFinance.html'\n",
    "response = urlopen(url)\n",
    "htmlparser = etree.HTMLParser()\n",
    "tree = etree.parse(response, htmlparser)\n",
    "table = tree.xpath('//table//tbody')[0]\n",
    "# print(len(table))\n",
    "# print(table.attrib)\n",
    "for row in iter(table):\n",
    "    for col in row.xpath('td//*'):\n",
    "        print(col.text)\n",
    "    break"
   ]
  },
  {
   "cell_type": "code",
   "execution_count": 150,
   "id": "korean-verification",
   "metadata": {},
   "outputs": [],
   "source": [
    "from selenium import webdriver\n",
    "from selenium.webdriver.common.keys import Keys\n",
    "import time"
   ]
  },
  {
   "cell_type": "code",
   "execution_count": 151,
   "id": "international-madonna",
   "metadata": {},
   "outputs": [],
   "source": [
    "# You can close the browser after the scrolling is done\n",
    "browser = webdriver.Firefox()\n",
    "browser.get(url)\n",
    "time.sleep(1)\n",
    "\n",
    "elem = browser.find_element_by_tag_name(\"body\")\n",
    "\n",
    "no_of_pagedowns = 400\n",
    "\n",
    "while no_of_pagedowns:\n",
    "    \n",
    "    elem.send_keys(Keys.PAGE_DOWN)\n",
    "    time.sleep(0.2)\n",
    "    no_of_pagedowns-=1\n",
    "    \n",
    "contents = browser.page_source\n",
    "soup = BeautifulSoup(contents, 'lxml')"
   ]
  },
  {
   "cell_type": "code",
   "execution_count": 152,
   "id": "offensive-punishment",
   "metadata": {},
   "outputs": [],
   "source": [
    "# len(soup.select('tbody')[0].select('tr'))"
   ]
  },
  {
   "cell_type": "code",
   "execution_count": 153,
   "id": "responsible-recorder",
   "metadata": {},
   "outputs": [
    {
     "name": "stdout",
     "output_type": "stream",
     "text": [
      "Date\n",
      "Open\n",
      "High\n",
      "Low\n",
      "Close*\n",
      "Adj Close**\n",
      "Volume\n"
     ]
    }
   ],
   "source": [
    "table_head = soup.select('thead')[0]\n",
    "for col in table_head.select('span'):\n",
    "    print(col.text)"
   ]
  },
  {
   "cell_type": "code",
   "execution_count": 191,
   "id": "taken-chart",
   "metadata": {
    "scrolled": true
   },
   "outputs": [],
   "source": [
    "data = {\n",
    "    'date':[],\n",
    "    'open':[],\n",
    "    'high':[],\n",
    "    'low':[],\n",
    "    'close':[],\n",
    "    'adj_close':[],\n",
    "    'volume':[],\n",
    "}\n",
    "\n",
    "\n",
    "table_body = soup.select('tbody')[0]\n",
    "for row in table_body.select('tr'):\n",
    "    entry = row.find_all('span')\n",
    "    data['date'].append(entry[0].text)\n",
    "    data['open'].append(entry[1].text.replace(',',''))\n",
    "    data['high'].append(entry[2].text.replace(',',''))\n",
    "    data['low'].append(entry[3].text.replace(',',''))\n",
    "    data['close'].append(entry[4].text.replace(',',''))\n",
    "    data['adj_close'].append(entry[5].text.replace(',',''))\n",
    "    data['volume'].append(entry[6].text.replace(',',''))\n",
    "    \n",
    "#     for entry in row.select('td'):\n",
    "#         print(entry.text)\n",
    "#     break"
   ]
  },
  {
   "cell_type": "code",
   "execution_count": 192,
   "id": "automotive-slovakia",
   "metadata": {},
   "outputs": [
    {
     "data": {
      "text/plain": [
       "7362"
      ]
     },
     "execution_count": 192,
     "metadata": {},
     "output_type": "execute_result"
    }
   ],
   "source": [
    "len(data['date'])"
   ]
  },
  {
   "cell_type": "code",
   "execution_count": 193,
   "id": "portuguese-elephant",
   "metadata": {},
   "outputs": [
    {
     "data": {
      "text/html": [
       "<div>\n",
       "<style scoped>\n",
       "    .dataframe tbody tr th:only-of-type {\n",
       "        vertical-align: middle;\n",
       "    }\n",
       "\n",
       "    .dataframe tbody tr th {\n",
       "        vertical-align: top;\n",
       "    }\n",
       "\n",
       "    .dataframe thead th {\n",
       "        text-align: right;\n",
       "    }\n",
       "</style>\n",
       "<table border=\"1\" class=\"dataframe\">\n",
       "  <thead>\n",
       "    <tr style=\"text-align: right;\">\n",
       "      <th></th>\n",
       "      <th>date</th>\n",
       "      <th>open</th>\n",
       "      <th>high</th>\n",
       "      <th>low</th>\n",
       "      <th>close</th>\n",
       "      <th>adj_close</th>\n",
       "      <th>volume</th>\n",
       "    </tr>\n",
       "  </thead>\n",
       "  <tbody>\n",
       "    <tr>\n",
       "      <th>0</th>\n",
       "      <td>Mar 24, 2021</td>\n",
       "      <td>32470.88</td>\n",
       "      <td>32787.99</td>\n",
       "      <td>32418.15</td>\n",
       "      <td>32420.06</td>\n",
       "      <td>32420.06</td>\n",
       "      <td>3993900</td>\n",
       "    </tr>\n",
       "    <tr>\n",
       "      <th>1</th>\n",
       "      <td>Mar 23, 2021</td>\n",
       "      <td>32691.50</td>\n",
       "      <td>32753.77</td>\n",
       "      <td>32356.28</td>\n",
       "      <td>32423.15</td>\n",
       "      <td>32423.15</td>\n",
       "      <td>3858400</td>\n",
       "    </tr>\n",
       "    <tr>\n",
       "      <th>2</th>\n",
       "      <td>Mar 22, 2021</td>\n",
       "      <td>32601.82</td>\n",
       "      <td>32810.35</td>\n",
       "      <td>32512.53</td>\n",
       "      <td>32731.20</td>\n",
       "      <td>32731.20</td>\n",
       "      <td>3835000</td>\n",
       "    </tr>\n",
       "    <tr>\n",
       "      <th>3</th>\n",
       "      <td>Mar 19, 2021</td>\n",
       "      <td>32858.36</td>\n",
       "      <td>32858.36</td>\n",
       "      <td>32505.07</td>\n",
       "      <td>32627.97</td>\n",
       "      <td>32627.97</td>\n",
       "      <td>8118900</td>\n",
       "    </tr>\n",
       "    <tr>\n",
       "      <th>4</th>\n",
       "      <td>Mar 18, 2021</td>\n",
       "      <td>32928.16</td>\n",
       "      <td>33227.78</td>\n",
       "      <td>32831.25</td>\n",
       "      <td>32862.30</td>\n",
       "      <td>32862.30</td>\n",
       "      <td>4184800</td>\n",
       "    </tr>\n",
       "  </tbody>\n",
       "</table>\n",
       "</div>"
      ],
      "text/plain": [
       "           date      open      high       low     close adj_close   volume\n",
       "0  Mar 24, 2021  32470.88  32787.99  32418.15  32420.06  32420.06  3993900\n",
       "1  Mar 23, 2021  32691.50  32753.77  32356.28  32423.15  32423.15  3858400\n",
       "2  Mar 22, 2021  32601.82  32810.35  32512.53  32731.20  32731.20  3835000\n",
       "3  Mar 19, 2021  32858.36  32858.36  32505.07  32627.97  32627.97  8118900\n",
       "4  Mar 18, 2021  32928.16  33227.78  32831.25  32862.30  32862.30  4184800"
      ]
     },
     "execution_count": 193,
     "metadata": {},
     "output_type": "execute_result"
    }
   ],
   "source": [
    "df = pd.DataFrame(data)\n",
    "df.head()"
   ]
  },
  {
   "cell_type": "code",
   "execution_count": 194,
   "id": "compressed-hotel",
   "metadata": {},
   "outputs": [],
   "source": [
    "format = '%b %d, %Y'\n",
    "df['date'] = pd.to_datetime(df['date'], format=format)\n",
    "df = df.set_index(pd.DatetimeIndex(df['date']))\n",
    "df = df.drop(['date'], axis=1)\n",
    "\n",
    "df.sort_values(by='date', inplace=True, ascending=False)"
   ]
  },
  {
   "cell_type": "code",
   "execution_count": 195,
   "id": "recognized-electronics",
   "metadata": {},
   "outputs": [],
   "source": [
    "df = df.astype({'open'     : 'float',\n",
    "                'high'     : 'float',\n",
    "                'low'      : 'float',\n",
    "                'close'    : 'float',\n",
    "                'adj_close': 'float',\n",
    "                'volume'   : 'int',}, copy=True )\n",
    "\n",
    "\n",
    "\n",
    "# pd.to_numeric(df.str.replace(',',''), errors='coerce')"
   ]
  },
  {
   "cell_type": "code",
   "execution_count": 196,
   "id": "hydraulic-logging",
   "metadata": {},
   "outputs": [
    {
     "data": {
      "text/plain": [
       "open         float64\n",
       "high         float64\n",
       "low          float64\n",
       "close        float64\n",
       "adj_close    float64\n",
       "volume         int64\n",
       "dtype: object"
      ]
     },
     "execution_count": 196,
     "metadata": {},
     "output_type": "execute_result"
    }
   ],
   "source": [
    "df.dtypes"
   ]
  },
  {
   "cell_type": "code",
   "execution_count": 197,
   "id": "involved-variation",
   "metadata": {
    "scrolled": false
   },
   "outputs": [
    {
     "data": {
      "text/html": [
       "<div>\n",
       "<style scoped>\n",
       "    .dataframe tbody tr th:only-of-type {\n",
       "        vertical-align: middle;\n",
       "    }\n",
       "\n",
       "    .dataframe tbody tr th {\n",
       "        vertical-align: top;\n",
       "    }\n",
       "\n",
       "    .dataframe thead th {\n",
       "        text-align: right;\n",
       "    }\n",
       "</style>\n",
       "<table border=\"1\" class=\"dataframe\">\n",
       "  <thead>\n",
       "    <tr style=\"text-align: right;\">\n",
       "      <th></th>\n",
       "      <th>open</th>\n",
       "      <th>high</th>\n",
       "      <th>low</th>\n",
       "      <th>close</th>\n",
       "      <th>adj_close</th>\n",
       "      <th>volume</th>\n",
       "    </tr>\n",
       "    <tr>\n",
       "      <th>date</th>\n",
       "      <th></th>\n",
       "      <th></th>\n",
       "      <th></th>\n",
       "      <th></th>\n",
       "      <th></th>\n",
       "      <th></th>\n",
       "    </tr>\n",
       "  </thead>\n",
       "  <tbody>\n",
       "    <tr>\n",
       "      <th>2021-03-24</th>\n",
       "      <td>32470.88</td>\n",
       "      <td>32787.99</td>\n",
       "      <td>32418.15</td>\n",
       "      <td>32420.06</td>\n",
       "      <td>32420.06</td>\n",
       "      <td>3993900</td>\n",
       "    </tr>\n",
       "    <tr>\n",
       "      <th>2021-03-23</th>\n",
       "      <td>32691.50</td>\n",
       "      <td>32753.77</td>\n",
       "      <td>32356.28</td>\n",
       "      <td>32423.15</td>\n",
       "      <td>32423.15</td>\n",
       "      <td>3858400</td>\n",
       "    </tr>\n",
       "    <tr>\n",
       "      <th>2021-03-22</th>\n",
       "      <td>32601.82</td>\n",
       "      <td>32810.35</td>\n",
       "      <td>32512.53</td>\n",
       "      <td>32731.20</td>\n",
       "      <td>32731.20</td>\n",
       "      <td>3835000</td>\n",
       "    </tr>\n",
       "    <tr>\n",
       "      <th>2021-03-19</th>\n",
       "      <td>32858.36</td>\n",
       "      <td>32858.36</td>\n",
       "      <td>32505.07</td>\n",
       "      <td>32627.97</td>\n",
       "      <td>32627.97</td>\n",
       "      <td>8118900</td>\n",
       "    </tr>\n",
       "    <tr>\n",
       "      <th>2021-03-18</th>\n",
       "      <td>32928.16</td>\n",
       "      <td>33227.78</td>\n",
       "      <td>32831.25</td>\n",
       "      <td>32862.30</td>\n",
       "      <td>32862.30</td>\n",
       "      <td>4184800</td>\n",
       "    </tr>\n",
       "  </tbody>\n",
       "</table>\n",
       "</div>"
      ],
      "text/plain": [
       "                open      high       low     close  adj_close   volume\n",
       "date                                                                  \n",
       "2021-03-24  32470.88  32787.99  32418.15  32420.06   32420.06  3993900\n",
       "2021-03-23  32691.50  32753.77  32356.28  32423.15   32423.15  3858400\n",
       "2021-03-22  32601.82  32810.35  32512.53  32731.20   32731.20  3835000\n",
       "2021-03-19  32858.36  32858.36  32505.07  32627.97   32627.97  8118900\n",
       "2021-03-18  32928.16  33227.78  32831.25  32862.30   32862.30  4184800"
      ]
     },
     "execution_count": 197,
     "metadata": {},
     "output_type": "execute_result"
    }
   ],
   "source": [
    "df.head()"
   ]
  },
  {
   "cell_type": "code",
   "execution_count": 198,
   "id": "lovely-fantasy",
   "metadata": {},
   "outputs": [
    {
     "name": "stdout",
     "output_type": "stream",
     "text": [
      "\u001b[0m\u001b[01;32mdata-processing.ipynb\u001b[0m*  main.html  \u001b[34;42mprocessed_data\u001b[0m/\r\n",
      "geckodriver.log         main.py    \u001b[34;42mraw_data\u001b[0m/\r\n"
     ]
    }
   ],
   "source": [
    "ls"
   ]
  },
  {
   "cell_type": "code",
   "execution_count": 199,
   "id": "regional-absolute",
   "metadata": {},
   "outputs": [],
   "source": [
    "df.to_csv('processed_data/djia_historical.csv')"
   ]
  },
  {
   "cell_type": "code",
   "execution_count": 200,
   "id": "direct-device",
   "metadata": {},
   "outputs": [
    {
     "data": {
      "text/plain": [
       "DatetimeIndex(['2021-03-24', '2021-03-23', '2021-03-22', '2021-03-19',\n",
       "               '2021-03-18', '2021-03-17', '2021-03-16', '2021-03-15',\n",
       "               '2021-03-12', '2021-03-11',\n",
       "               ...\n",
       "               '1992-01-15', '1992-01-14', '1992-01-13', '1992-01-10',\n",
       "               '1992-01-09', '1992-01-08', '1992-01-07', '1992-01-06',\n",
       "               '1992-01-03', '1992-01-02'],\n",
       "              dtype='datetime64[ns]', name='date', length=7362, freq=None)"
      ]
     },
     "execution_count": 200,
     "metadata": {},
     "output_type": "execute_result"
    }
   ],
   "source": [
    "df.index"
   ]
  },
  {
   "cell_type": "code",
   "execution_count": null,
   "id": "square-reverse",
   "metadata": {},
   "outputs": [],
   "source": []
  }
 ],
 "metadata": {
  "kernelspec": {
   "display_name": "Python 3",
   "language": "python",
   "name": "python3"
  },
  "language_info": {
   "codemirror_mode": {
    "name": "ipython",
    "version": 3
   },
   "file_extension": ".py",
   "mimetype": "text/x-python",
   "name": "python",
   "nbconvert_exporter": "python",
   "pygments_lexer": "ipython3",
   "version": "3.9.2"
  }
 },
 "nbformat": 4,
 "nbformat_minor": 5
}
